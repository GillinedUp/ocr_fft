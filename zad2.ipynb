{
 "cells": [
  {
   "cell_type": "code",
   "execution_count": 13,
   "metadata": {
    "collapsed": true
   },
   "outputs": [],
   "source": [
    "import numpy as np\n",
    "from PIL import Image, ImageDraw, ImageFont\n",
    "from scipy.ndimage.morphology import grey_dilation\n",
    "\n",
    "def read_and_inverse_img(img_name):\n",
    "    im = Image.open(img_name, 'r').convert('LA')\n",
    "    pixs = np.array(im)[:, :, 0]\n",
    "    lorem_inv = np.array(list(map(lambda x: 255 - x, pixs)))\n",
    "    return lorem_inv\n",
    "\n",
    "def get_char_map(char, font):\n",
    "    core = font.getmask(char)\n",
    "    x, y = core.size\n",
    "    ch_map = np.reshape(np.array(core), (y, x))\n",
    "    return ch_map\n",
    "\n",
    "def write_char_pos(char_ord, char_map, let_pos, lorem_inv, pres):\n",
    "    e_count = 0\n",
    "    cor = np.real(\n",
    "        np.fft.ifft2(\n",
    "            np.multiply(\n",
    "                np.fft.fft2(lorem_inv), \n",
    "                np.fft.fft2(np.rot90(char_map, 2), np.shape(lorem_inv)))))\n",
    "    thr = int(np.max(cor)) - pres\n",
    "    filtered_cor = cor > thr    \n",
    "    for j in range(0, len(filtered_cor)):\n",
    "        for k in range(0, len(filtered_cor[j])):\n",
    "            if filtered_cor[j, k] == True:\n",
    "                e_count = e_count + 1\n",
    "                let_pos[j, k] = char_ord\n",
    "    return e_count\n",
    "\n",
    "def get_str(let_pos):\n",
    "    res_str = \"\"\n",
    "    space_counter = 0\n",
    "    for j in range(0, len(let_pos)):\n",
    "        for k in range(0, len(let_pos[j])):\n",
    "            if let_pos[j, k] != 0:\n",
    "                res_str += chr(let_pos[j, k])\n",
    "            else:\n",
    "                space_counter += 1\n",
    "            if space_counter >= 14:\n",
    "                space_counter = 0\n",
    "                res_str += ' '\n",
    "    return res_str\n",
    "\n",
    "def recognize(img_name):\n",
    "    lorem_inv = read_and_inverse_img(img_name)\n",
    "    font = ImageFont.truetype(\"arial.ttf\", 16)\n",
    "    let_pos = np.zeros(np.shape(lorem_inv), dtype=np.uint8)\n",
    "    for i in range(ord('a'), ord('z')+1):\n",
    "        ch_map = get_char_map(chr(i), font)\n",
    "        write_char_pos(i, ch_map, let_pos, lorem_inv, 50000)\n",
    "    res_str = get_str(let_pos)\n",
    "    return res_str"
   ]
  },
  {
   "cell_type": "code",
   "execution_count": 2,
   "metadata": {
    "collapsed": true
   },
   "outputs": [],
   "source": [
    "img_name = 'lorem_arial.png'"
   ]
  },
  {
   "cell_type": "code",
   "execution_count": 15,
   "metadata": {},
   "outputs": [],
   "source": [
    "res_str = recognize(img_name)\n",
    "print(res_str)"
   ]
  }
 ],
 "metadata": {
  "kernelspec": {
   "display_name": "Python 3",
   "language": "python",
   "name": "python3"
  },
  "language_info": {
   "codemirror_mode": {
    "name": "ipython",
    "version": 3
   },
   "file_extension": ".py",
   "mimetype": "text/x-python",
   "name": "python",
   "nbconvert_exporter": "python",
   "pygments_lexer": "ipython3",
   "version": "3.6.3"
  }
 },
 "nbformat": 4,
 "nbformat_minor": 2
}
