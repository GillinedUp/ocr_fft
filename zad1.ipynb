{
 "cells": [
  {
   "cell_type": "code",
   "execution_count": 1,
   "metadata": {
    "collapsed": true
   },
   "outputs": [],
   "source": [
    "import numpy as np\n",
    "from PIL import Image\n",
    "from scipy.ndimage.morphology import grey_dilation"
   ]
  },
  {
   "cell_type": "code",
   "execution_count": 2,
   "metadata": {
    "collapsed": true
   },
   "outputs": [],
   "source": [
    "im = Image.open('text.png', 'r').convert('LA')\n",
    "pixs = np.array(im)\n",
    "a = pixs[:, :, 0]\n",
    "inv = np.array(list(map(lambda x: 255 - x, a)))"
   ]
  },
  {
   "cell_type": "code",
   "execution_count": 5,
   "metadata": {},
   "outputs": [
    {
     "data": {
      "text/plain": [
       "array([[  0,   9, 139, 249, 255, 189,  29,   0],\n",
       "       [  2, 140, 190,  32,  17, 160, 198,   8],\n",
       "       [ 19, 223,  53,   0,   0,  39, 236,  41],\n",
       "       [ 47, 249, 255, 255, 255, 255, 251,  53],\n",
       "       [ 47, 242,  34,   0,   0,   0,   0,   0],\n",
       "       [ 20, 231,  89,   0,   0,   0,   0,   0],\n",
       "       [  2, 140, 232,  67,  12,  41,  85,   5],\n",
       "       [  0,   9, 131, 242, 255, 248, 151,   5]], dtype=uint8)"
      ]
     },
     "execution_count": 5,
     "metadata": {},
     "output_type": "execute_result"
    }
   ],
   "source": [
    "e = inv[30:38, 235:243]\n",
    "e"
   ]
  },
  {
   "cell_type": "code",
   "execution_count": 4,
   "metadata": {
    "collapsed": true
   },
   "outputs": [],
   "source": [
    "Image.fromarray(e).show()"
   ]
  },
  {
   "cell_type": "code",
   "execution_count": 22,
   "metadata": {
    "collapsed": true
   },
   "outputs": [],
   "source": [
    "cor = np.real(np.fft.ifft2(np.multiply(np.fft.fft2(inv), np.fft.fft2(np.rot90(e, 2), [420, 936]))))"
   ]
  },
  {
   "cell_type": "code",
   "execution_count": 40,
   "metadata": {},
   "outputs": [
    {
     "data": {
      "text/plain": [
       "1242566.0000000016"
      ]
     },
     "execution_count": 40,
     "metadata": {},
     "output_type": "execute_result"
    }
   ],
   "source": [
    "np.max(cor)"
   ]
  },
  {
   "cell_type": "code",
   "execution_count": 28,
   "metadata": {
    "collapsed": true
   },
   "outputs": [],
   "source": [
    "thr = 1242500\n",
    "d = cor > thr\n",
    "f = np.vectorize(lambda x: 0 if x == False else 255)\n",
    "k = f(d).astype(np.uint8)"
   ]
  },
  {
   "cell_type": "code",
   "execution_count": 43,
   "metadata": {},
   "outputs": [
    {
     "name": "stdout",
     "output_type": "stream",
     "text": [
      "210\n"
     ]
    }
   ],
   "source": [
    "e_count = 0\n",
    "for vec in k:\n",
    "    for el in vec:\n",
    "        if el == 255:\n",
    "            e_count = e_count + 1\n",
    "print(e_count)"
   ]
  },
  {
   "cell_type": "code",
   "execution_count": 30,
   "metadata": {
    "collapsed": true
   },
   "outputs": [],
   "source": [
    "k_d = grey_dilation(k, size=(3,3))"
   ]
  },
  {
   "cell_type": "code",
   "execution_count": 35,
   "metadata": {
    "collapsed": true
   },
   "outputs": [],
   "source": [
    "Image.fromarray(k).show()"
   ]
  },
  {
   "cell_type": "code",
   "execution_count": 32,
   "metadata": {
    "collapsed": true
   },
   "outputs": [],
   "source": [
    "a = Image.fromarray(inv)\n",
    "b = Image.fromarray(k_d)\n",
    "c = Image.blend(a, b, 0.5)"
   ]
  },
  {
   "cell_type": "code",
   "execution_count": 33,
   "metadata": {
    "collapsed": true
   },
   "outputs": [],
   "source": [
    "c.show()"
   ]
  },
  {
   "cell_type": "code",
   "execution_count": 59,
   "metadata": {},
   "outputs": [
    {
     "data": {
      "text/plain": [
       "(420, 936)"
      ]
     },
     "execution_count": 59,
     "metadata": {},
     "output_type": "execute_result"
    }
   ],
   "source": [
    "np.shape(inv)"
   ]
  }
 ],
 "metadata": {
  "kernelspec": {
   "display_name": "Python 3",
   "language": "python",
   "name": "python3"
  },
  "language_info": {
   "codemirror_mode": {
    "name": "ipython",
    "version": 3
   },
   "file_extension": ".py",
   "mimetype": "text/x-python",
   "name": "python",
   "nbconvert_exporter": "python",
   "pygments_lexer": "ipython3",
   "version": "3.6.3"
  }
 },
 "nbformat": 4,
 "nbformat_minor": 2
}
